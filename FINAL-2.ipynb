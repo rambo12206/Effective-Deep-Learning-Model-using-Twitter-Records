{
 "cells": [
  {
   "cell_type": "code",
   "execution_count": 1,
   "metadata": {},
   "outputs": [],
   "source": [
    "import re\n",
    "import nltk\n",
    "from nltk.tokenize.treebank import TreebankWordDetokenizer\n",
    "from nltk.corpus import stopwords\n",
    "from nltk.stem.wordnet import WordNetLemmatizer\n",
    "import gensim\n",
    "from gensim.utils import simple_preprocess\n",
    "from sklearn.model_selection import train_test_split\n",
    "import tensorflow as tf\n",
    "import numpy as np\n",
    "import pandas as pd\n",
    "import seaborn as sns"
   ]
  },
  {
   "cell_type": "code",
   "execution_count": 2,
   "metadata": {},
   "outputs": [],
   "source": [
    "train = pd.read_csv('C:/Users/LENOVO/Downloads/train/train.csv')"
   ]
  },
  {
   "cell_type": "code",
   "execution_count": 3,
   "metadata": {},
   "outputs": [
    {
     "data": {
      "text/html": [
       "<div>\n",
       "<style scoped>\n",
       "    .dataframe tbody tr th:only-of-type {\n",
       "        vertical-align: middle;\n",
       "    }\n",
       "\n",
       "    .dataframe tbody tr th {\n",
       "        vertical-align: top;\n",
       "    }\n",
       "\n",
       "    .dataframe thead th {\n",
       "        text-align: right;\n",
       "    }\n",
       "</style>\n",
       "<table border=\"1\" class=\"dataframe\">\n",
       "  <thead>\n",
       "    <tr style=\"text-align: right;\">\n",
       "      <th></th>\n",
       "      <th>textID</th>\n",
       "      <th>text</th>\n",
       "      <th>selected_text</th>\n",
       "      <th>sentiment</th>\n",
       "    </tr>\n",
       "  </thead>\n",
       "  <tbody>\n",
       "    <tr>\n",
       "      <th>0</th>\n",
       "      <td>cb774db0d1</td>\n",
       "      <td>I`d have responded, if I were going</td>\n",
       "      <td>I`d have responded, if I were going</td>\n",
       "      <td>neutral</td>\n",
       "    </tr>\n",
       "    <tr>\n",
       "      <th>1</th>\n",
       "      <td>549e992a42</td>\n",
       "      <td>Sooo SAD I will miss you here in San Diego!!!</td>\n",
       "      <td>Sooo SAD</td>\n",
       "      <td>negative</td>\n",
       "    </tr>\n",
       "    <tr>\n",
       "      <th>2</th>\n",
       "      <td>088c60f138</td>\n",
       "      <td>my boss is bullying me...</td>\n",
       "      <td>bullying me</td>\n",
       "      <td>negative</td>\n",
       "    </tr>\n",
       "    <tr>\n",
       "      <th>3</th>\n",
       "      <td>9642c003ef</td>\n",
       "      <td>what interview! leave me alone</td>\n",
       "      <td>leave me alone</td>\n",
       "      <td>negative</td>\n",
       "    </tr>\n",
       "    <tr>\n",
       "      <th>4</th>\n",
       "      <td>358bd9e861</td>\n",
       "      <td>Sons of ****, why couldn`t they put them on t...</td>\n",
       "      <td>Sons of ****,</td>\n",
       "      <td>negative</td>\n",
       "    </tr>\n",
       "    <tr>\n",
       "      <th>5</th>\n",
       "      <td>28b57f3990</td>\n",
       "      <td>http://www.dothebouncy.com/smf - some shameles...</td>\n",
       "      <td>http://www.dothebouncy.com/smf - some shameles...</td>\n",
       "      <td>neutral</td>\n",
       "    </tr>\n",
       "    <tr>\n",
       "      <th>6</th>\n",
       "      <td>6e0c6d75b1</td>\n",
       "      <td>2am feedings for the baby are fun when he is a...</td>\n",
       "      <td>fun</td>\n",
       "      <td>positive</td>\n",
       "    </tr>\n",
       "    <tr>\n",
       "      <th>7</th>\n",
       "      <td>50e14c0bb8</td>\n",
       "      <td>Soooo high</td>\n",
       "      <td>Soooo high</td>\n",
       "      <td>neutral</td>\n",
       "    </tr>\n",
       "    <tr>\n",
       "      <th>8</th>\n",
       "      <td>e050245fbd</td>\n",
       "      <td>Both of you</td>\n",
       "      <td>Both of you</td>\n",
       "      <td>neutral</td>\n",
       "    </tr>\n",
       "    <tr>\n",
       "      <th>9</th>\n",
       "      <td>fc2cbefa9d</td>\n",
       "      <td>Journey!? Wow... u just became cooler.  hehe....</td>\n",
       "      <td>Wow... u just became cooler.</td>\n",
       "      <td>positive</td>\n",
       "    </tr>\n",
       "    <tr>\n",
       "      <th>10</th>\n",
       "      <td>2339a9b08b</td>\n",
       "      <td>as much as i love to be hopeful, i reckon the...</td>\n",
       "      <td>as much as i love to be hopeful, i reckon the ...</td>\n",
       "      <td>neutral</td>\n",
       "    </tr>\n",
       "    <tr>\n",
       "      <th>11</th>\n",
       "      <td>16fab9f95b</td>\n",
       "      <td>I really really like the song Love Story by Ta...</td>\n",
       "      <td>like</td>\n",
       "      <td>positive</td>\n",
       "    </tr>\n",
       "    <tr>\n",
       "      <th>12</th>\n",
       "      <td>74a76f6e0a</td>\n",
       "      <td>My Sharpie is running DANGERously low on ink</td>\n",
       "      <td>DANGERously</td>\n",
       "      <td>negative</td>\n",
       "    </tr>\n",
       "    <tr>\n",
       "      <th>13</th>\n",
       "      <td>04dd1d2e34</td>\n",
       "      <td>i want to go to music tonight but i lost my vo...</td>\n",
       "      <td>lost</td>\n",
       "      <td>negative</td>\n",
       "    </tr>\n",
       "    <tr>\n",
       "      <th>14</th>\n",
       "      <td>bbe3cbf620</td>\n",
       "      <td>test test from the LG enV2</td>\n",
       "      <td>test test from the LG enV2</td>\n",
       "      <td>neutral</td>\n",
       "    </tr>\n",
       "  </tbody>\n",
       "</table>\n",
       "</div>"
      ],
      "text/plain": [
       "        textID                                               text  \\\n",
       "0   cb774db0d1                I`d have responded, if I were going   \n",
       "1   549e992a42      Sooo SAD I will miss you here in San Diego!!!   \n",
       "2   088c60f138                          my boss is bullying me...   \n",
       "3   9642c003ef                     what interview! leave me alone   \n",
       "4   358bd9e861   Sons of ****, why couldn`t they put them on t...   \n",
       "5   28b57f3990  http://www.dothebouncy.com/smf - some shameles...   \n",
       "6   6e0c6d75b1  2am feedings for the baby are fun when he is a...   \n",
       "7   50e14c0bb8                                         Soooo high   \n",
       "8   e050245fbd                                        Both of you   \n",
       "9   fc2cbefa9d   Journey!? Wow... u just became cooler.  hehe....   \n",
       "10  2339a9b08b   as much as i love to be hopeful, i reckon the...   \n",
       "11  16fab9f95b  I really really like the song Love Story by Ta...   \n",
       "12  74a76f6e0a       My Sharpie is running DANGERously low on ink   \n",
       "13  04dd1d2e34  i want to go to music tonight but i lost my vo...   \n",
       "14  bbe3cbf620                         test test from the LG enV2   \n",
       "\n",
       "                                        selected_text sentiment  \n",
       "0                 I`d have responded, if I were going   neutral  \n",
       "1                                            Sooo SAD  negative  \n",
       "2                                         bullying me  negative  \n",
       "3                                      leave me alone  negative  \n",
       "4                                       Sons of ****,  negative  \n",
       "5   http://www.dothebouncy.com/smf - some shameles...   neutral  \n",
       "6                                                 fun  positive  \n",
       "7                                          Soooo high   neutral  \n",
       "8                                         Both of you   neutral  \n",
       "9                        Wow... u just became cooler.  positive  \n",
       "10  as much as i love to be hopeful, i reckon the ...   neutral  \n",
       "11                                               like  positive  \n",
       "12                                        DANGERously  negative  \n",
       "13                                               lost  negative  \n",
       "14                         test test from the LG enV2   neutral  "
      ]
     },
     "execution_count": 3,
     "metadata": {},
     "output_type": "execute_result"
    }
   ],
   "source": [
    "train.head(15)"
   ]
  },
  {
   "cell_type": "code",
   "execution_count": 4,
   "metadata": {},
   "outputs": [
    {
     "data": {
      "text/plain": [
       "array(['neutral', 'negative', 'positive'], dtype=object)"
      ]
     },
     "execution_count": 4,
     "metadata": {},
     "output_type": "execute_result"
    }
   ],
   "source": [
    "#Is there any other different value than neutral, negative and positive?\n",
    "train['sentiment'].unique()"
   ]
  },
  {
   "cell_type": "code",
   "execution_count": 6,
   "metadata": {},
   "outputs": [
    {
     "data": {
      "text/html": [
       "<div>\n",
       "<style scoped>\n",
       "    .dataframe tbody tr th:only-of-type {\n",
       "        vertical-align: middle;\n",
       "    }\n",
       "\n",
       "    .dataframe tbody tr th {\n",
       "        vertical-align: top;\n",
       "    }\n",
       "\n",
       "    .dataframe thead th {\n",
       "        text-align: right;\n",
       "    }\n",
       "</style>\n",
       "<table border=\"1\" class=\"dataframe\">\n",
       "  <thead>\n",
       "    <tr style=\"text-align: right;\">\n",
       "      <th></th>\n",
       "      <th>textID</th>\n",
       "      <th>text</th>\n",
       "      <th>selected_text</th>\n",
       "    </tr>\n",
       "    <tr>\n",
       "      <th>sentiment</th>\n",
       "      <th></th>\n",
       "      <th></th>\n",
       "      <th></th>\n",
       "    </tr>\n",
       "  </thead>\n",
       "  <tbody>\n",
       "    <tr>\n",
       "      <th>negative</th>\n",
       "      <td>7781</td>\n",
       "      <td>7781</td>\n",
       "      <td>5861</td>\n",
       "    </tr>\n",
       "    <tr>\n",
       "      <th>neutral</th>\n",
       "      <td>11118</td>\n",
       "      <td>11117</td>\n",
       "      <td>11111</td>\n",
       "    </tr>\n",
       "    <tr>\n",
       "      <th>positive</th>\n",
       "      <td>8582</td>\n",
       "      <td>8582</td>\n",
       "      <td>5537</td>\n",
       "    </tr>\n",
       "  </tbody>\n",
       "</table>\n",
       "</div>"
      ],
      "text/plain": [
       "           textID   text  selected_text\n",
       "sentiment                              \n",
       "negative     7781   7781           5861\n",
       "neutral     11118  11117          11111\n",
       "positive     8582   8582           5537"
      ]
     },
     "execution_count": 6,
     "metadata": {},
     "output_type": "execute_result"
    }
   ],
   "source": [
    "#How's distributed the dataset? Is it biased?\n",
    "train.groupby('sentiment').nunique()"
   ]
  },
  {
   "cell_type": "code",
   "execution_count": 7,
   "metadata": {},
   "outputs": [
    {
     "name": "stderr",
     "output_type": "stream",
     "text": [
      "C:\\Users\\LENOVO\\anaconda3\\lib\\site-packages\\seaborn\\_decorators.py:36: FutureWarning: Pass the following variable as a keyword arg: x. From version 0.12, the only valid positional argument will be `data`, and passing other arguments without an explicit keyword will result in an error or misinterpretation.\n",
      "  warnings.warn(\n"
     ]
    },
    {
     "data": {
      "image/png": "[encoded data removed]",
      "text/plain": [
       "<Figure size 432x288 with 1 Axes>"
      ]
     },
     "metadata": {
      "needs_background": "light"
     },
     "output_type": "display_data"
    }
   ],
   "source": [
    "# Check for data imbalance\n",
    "sns.countplot(train[\"sentiment\"]);"
   ]
  },
  {
   "cell_type": "code",
   "execution_count": 8,
   "metadata": {},
   "outputs": [
    {
     "data": {
      "text/html": [
       "<div>\n",
       "<style scoped>\n",
       "    .dataframe tbody tr th:only-of-type {\n",
       "        vertical-align: middle;\n",
       "    }\n",
       "\n",
       "    .dataframe tbody tr th {\n",
       "        vertical-align: top;\n",
       "    }\n",
       "\n",
       "    .dataframe thead th {\n",
       "        text-align: right;\n",
       "    }\n",
       "</style>\n",
       "<table border=\"1\" class=\"dataframe\">\n",
       "  <thead>\n",
       "    <tr style=\"text-align: right;\">\n",
       "      <th></th>\n",
       "      <th>selected_text</th>\n",
       "      <th>sentiment</th>\n",
       "    </tr>\n",
       "  </thead>\n",
       "  <tbody>\n",
       "    <tr>\n",
       "      <th>0</th>\n",
       "      <td>I`d have responded, if I were going</td>\n",
       "      <td>neutral</td>\n",
       "    </tr>\n",
       "    <tr>\n",
       "      <th>1</th>\n",
       "      <td>Sooo SAD</td>\n",
       "      <td>negative</td>\n",
       "    </tr>\n",
       "    <tr>\n",
       "      <th>2</th>\n",
       "      <td>bullying me</td>\n",
       "      <td>negative</td>\n",
       "    </tr>\n",
       "    <tr>\n",
       "      <th>3</th>\n",
       "      <td>leave me alone</td>\n",
       "      <td>negative</td>\n",
       "    </tr>\n",
       "    <tr>\n",
       "      <th>4</th>\n",
       "      <td>Sons of ****,</td>\n",
       "      <td>negative</td>\n",
       "    </tr>\n",
       "  </tbody>\n",
       "</table>\n",
       "</div>"
      ],
      "text/plain": [
       "                         selected_text sentiment\n",
       "0  I`d have responded, if I were going   neutral\n",
       "1                             Sooo SAD  negative\n",
       "2                          bullying me  negative\n",
       "3                       leave me alone  negative\n",
       "4                        Sons of ****,  negative"
      ]
     },
     "execution_count": 8,
     "metadata": {},
     "output_type": "execute_result"
    }
   ],
   "source": [
    "#Let's keep only the columns that we're going to use\n",
    "train = train[['selected_text','sentiment']]\n",
    "train.head()"
   ]
  },
  {
   "cell_type": "code",
   "execution_count": 9,
   "metadata": {},
   "outputs": [
    {
     "data": {
      "text/plain": [
       "1"
      ]
     },
     "execution_count": 9,
     "metadata": {},
     "output_type": "execute_result"
    }
   ],
   "source": [
    "#Is there any null value?\n",
    "train[\"selected_text\"].isnull().sum()"
   ]
  },
  {
   "cell_type": "code",
   "execution_count": 10,
   "metadata": {},
   "outputs": [],
   "source": [
    "#Let's fill the only null value.\n",
    "train[\"selected_text\"].fillna(\"No content\", inplace = True)"
   ]
  },
  {
   "cell_type": "code",
   "execution_count": 11,
   "metadata": {},
   "outputs": [],
   "source": [
    "def depure_data(data):\n",
    "    \n",
    "    #Removing URLs with a regular expression\n",
    "    url_pattern = re.compile(r'https?://\\S+|www\\.\\S+')\n",
    "    data = url_pattern.sub(r'', data)\n",
    "\n",
    "    # Remove Emails\n",
    "    data = re.sub('\\S*@\\S*\\s?', '', data)\n",
    "\n",
    "    # Remove new line characters\n",
    "    data = re.sub('\\s+', ' ', data)\n",
    "\n",
    "    # Remove distracting single quotes\n",
    "    data = re.sub(\"\\'\", \"\", data)\n",
    "        \n",
    "    return data"
   ]
  },
  {
   "cell_type": "code",
   "execution_count": 12,
   "metadata": {},
   "outputs": [
    {
     "data": {
      "text/plain": [
       "['I`d have responded, if I were going',\n",
       " 'Sooo SAD',\n",
       " 'bullying me',\n",
       " 'leave me alone',\n",
       " 'Sons of ****,']"
      ]
     },
     "execution_count": 12,
     "metadata": {},
     "output_type": "execute_result"
    }
   ],
   "source": [
    "temp = []\n",
    "#Splitting pd.Series to list\n",
    "data_to_list = train['selected_text'].values.tolist()\n",
    "for i in range(len(data_to_list)):\n",
    "    temp.append(depure_data(data_to_list[i]))\n",
    "list(temp[:5])"
   ]
  },
  {
   "cell_type": "code",
   "execution_count": 13,
   "metadata": {},
   "outputs": [
    {
     "name": "stdout",
     "output_type": "stream",
     "text": [
      "[['have', 'responded', 'if', 'were', 'going'], ['sooo', 'sad'], ['bullying', 'me'], ['leave', 'me', 'alone'], ['sons', 'of'], ['some', 'shameless', 'plugging', 'for', 'the', 'best', 'rangers', 'forum', 'on', 'earth'], ['fun'], ['soooo', 'high'], ['both', 'of', 'you'], ['wow', 'just', 'became', 'cooler']]\n"
     ]
    }
   ],
   "source": [
    "def sent_to_words(sentences):\n",
    "    for sentence in sentences:\n",
    "        yield(gensim.utils.simple_preprocess(str(sentence), deacc=True))  # deacc=True removes punctuations\n",
    "        \n",
    "\n",
    "data_words = list(sent_to_words(temp))\n",
    "\n",
    "print(data_words[:10])"
   ]
  },
  {
   "cell_type": "code",
   "execution_count": 14,
   "metadata": {},
   "outputs": [
    {
     "data": {
      "text/plain": [
       "27481"
      ]
     },
     "execution_count": 14,
     "metadata": {},
     "output_type": "execute_result"
    }
   ],
   "source": [
    "len(data_words)"
   ]
  },
  {
   "cell_type": "code",
   "execution_count": 15,
   "metadata": {},
   "outputs": [],
   "source": [
    "def detokenize(text):\n",
    "    return TreebankWordDetokenizer().detokenize(text)"
   ]
  },
  {
   "cell_type": "code",
   "execution_count": 16,
   "metadata": {},
   "outputs": [
    {
     "name": "stdout",
     "output_type": "stream",
     "text": [
      "['have responded if were going', 'sooo sad', 'bullying me', 'leave me alone', 'sons of']\n"
     ]
    }
   ],
   "source": [
    "data = []\n",
    "for i in range(len(data_words)):\n",
    "    data.append(detokenize(data_words[i]))\n",
    "print(data[:5])"
   ]
  },
  {
   "cell_type": "code",
   "execution_count": 17,
   "metadata": {},
   "outputs": [],
   "source": [
    "data = np.array(data)"
   ]
  },
  {
   "cell_type": "code",
   "execution_count": 18,
   "metadata": {},
   "outputs": [],
   "source": [
    "labels = np.array(train['sentiment'])\n",
    "y = []\n",
    "for i in range(len(labels)):\n",
    "    if labels[i] == 'neutral':\n",
    "        y.append(0)\n",
    "    if labels[i] == 'negative':\n",
    "        y.append(1)\n",
    "    if labels[i] == 'positive':\n",
    "        y.append(2)\n",
    "y = np.array(y)\n",
    "labels = tf.keras.utils.to_categorical(y, 3, dtype=\"float32\")\n",
    "del y"
   ]
  },
  {
   "cell_type": "code",
   "execution_count": 19,
   "metadata": {},
   "outputs": [
    {
     "data": {
      "text/plain": [
       "27481"
      ]
     },
     "execution_count": 19,
     "metadata": {},
     "output_type": "execute_result"
    }
   ],
   "source": [
    "len(labels)"
   ]
  },
  {
   "cell_type": "code",
   "execution_count": 20,
   "metadata": {},
   "outputs": [
    {
     "name": "stdout",
     "output_type": "stream",
     "text": [
      "[[   0    0    0 ...   68  146   41]\n",
      " [   0    0    0 ...    0  397   65]\n",
      " [   0    0    0 ...    0    0   11]\n",
      " ...\n",
      " [   0    0    0 ...  372   10    3]\n",
      " [   0    0    0 ...   24  542    4]\n",
      " [   0    0    0 ... 2424  199  657]]\n"
     ]
    }
   ],
   "source": [
    "from keras.models import Sequential\n",
    "from keras import layers\n",
    "from keras.optimizers import RMSprop,Adam\n",
    "from keras.preprocessing.text import Tokenizer\n",
    "from keras.preprocessing.sequence import pad_sequences\n",
    "from keras import regularizers\n",
    "\n",
    "max_words = 5000\n",
    "max_len = 200\n",
    "\n",
    "tokenizer = Tokenizer(num_words=max_words)\n",
    "tokenizer.fit_on_texts(data)\n",
    "sequences = tokenizer.texts_to_sequences(data)\n",
    "tweets = pad_sequences(sequences, maxlen=max_len)\n",
    "print(tweets)"
   ]
  },
  {
   "cell_type": "code",
   "execution_count": 21,
   "metadata": {},
   "outputs": [
    {
     "name": "stdout",
     "output_type": "stream",
     "text": [
      "20610 6871 20610 6871\n"
     ]
    }
   ],
   "source": [
    "#Splitting the data\n",
    "X_train, X_test, y_train, y_test = train_test_split(tweets,labels, random_state=0)\n",
    "print (len(X_train),len(X_test),len(y_train),len(y_test))"
   ]
  },
  {
   "cell_type": "code",
   "execution_count": 30,
   "metadata": {},
   "outputs": [
    {
     "name": "stdout",
     "output_type": "stream",
     "text": [
      "Epoch 1/100\n",
      "645/645 [==============================] - 13s 17ms/step - loss: 1.1486 - accuracy: 0.5201\n",
      "Epoch 2/100\n",
      "645/645 [==============================] - 13s 20ms/step - loss: 0.8325 - accuracy: 0.6379\n",
      "Epoch 3/100\n",
      "645/645 [==============================] - 14s 22ms/step - loss: 0.7130 - accuracy: 0.7460\n",
      "Epoch 4/100\n",
      "645/645 [==============================] - 12s 19ms/step - loss: 0.6736 - accuracy: 0.7677\n",
      "Epoch 5/100\n",
      "645/645 [==============================] - 12s 19ms/step - loss: 0.6441 - accuracy: 0.7814\n",
      "Epoch 6/100\n",
      "645/645 [==============================] - 12s 19ms/step - loss: 0.5949 - accuracy: 0.8055\n",
      "Epoch 7/100\n",
      "645/645 [==============================] - 13s 19ms/step - loss: 0.5537 - accuracy: 0.8254\n",
      "Epoch 8/100\n",
      "645/645 [==============================] - 12s 19ms/step - loss: 0.5442 - accuracy: 0.8266\n",
      "Epoch 9/100\n",
      "645/645 [==============================] - 13s 20ms/step - loss: 0.5283 - accuracy: 0.8349\n",
      "Epoch 10/100\n",
      "645/645 [==============================] - 12s 19ms/step - loss: 0.5191 - accuracy: 0.8354\n",
      "Epoch 11/100\n",
      "645/645 [==============================] - 12s 19ms/step - loss: 0.5064 - accuracy: 0.8429\n",
      "Epoch 12/100\n",
      "645/645 [==============================] - 13s 19ms/step - loss: 0.5017 - accuracy: 0.8415\n",
      "Epoch 13/100\n",
      "645/645 [==============================] - 12s 19ms/step - loss: 0.4967 - accuracy: 0.8457\n",
      "Epoch 14/100\n",
      "645/645 [==============================] - 13s 20ms/step - loss: 0.4872 - accuracy: 0.8483\n",
      "Epoch 15/100\n",
      "645/645 [==============================] - 12s 19ms/step - loss: 0.4801 - accuracy: 0.8531\n",
      "Epoch 16/100\n",
      "645/645 [==============================] - 13s 20ms/step - loss: 0.4975 - accuracy: 0.8500\n",
      "Epoch 17/100\n",
      "645/645 [==============================] - 13s 19ms/step - loss: 0.4702 - accuracy: 0.8580\n",
      "Epoch 18/100\n",
      "645/645 [==============================] - 13s 19ms/step - loss: 0.4684 - accuracy: 0.8598\n",
      "Epoch 19/100\n",
      "645/645 [==============================] - 13s 19ms/step - loss: 0.4669 - accuracy: 0.8622\n",
      "Epoch 20/100\n",
      "645/645 [==============================] - 13s 20ms/step - loss: 0.4777 - accuracy: 0.8602\n",
      "Epoch 21/100\n",
      "645/645 [==============================] - 13s 19ms/step - loss: 0.4623 - accuracy: 0.8596\n",
      "Epoch 22/100\n",
      "645/645 [==============================] - 12s 19ms/step - loss: 0.4558 - accuracy: 0.8657\n",
      "Epoch 23/100\n",
      "645/645 [==============================] - 13s 20ms/step - loss: 0.4548 - accuracy: 0.8637\n",
      "Epoch 24/100\n",
      "645/645 [==============================] - 13s 19ms/step - loss: 0.4548 - accuracy: 0.8631\n",
      "Epoch 25/100\n",
      "645/645 [==============================] - 13s 20ms/step - loss: 0.4574 - accuracy: 0.8632\n",
      "Epoch 26/100\n",
      "645/645 [==============================] - 13s 19ms/step - loss: 0.4516 - accuracy: 0.8681\n",
      "Epoch 27/100\n",
      "645/645 [==============================] - 13s 20ms/step - loss: 0.4455 - accuracy: 0.8712\n",
      "Epoch 28/100\n",
      "645/645 [==============================] - 13s 19ms/step - loss: 0.4419 - accuracy: 0.8701\n",
      "Epoch 29/100\n",
      "645/645 [==============================] - 12s 19ms/step - loss: 0.4312 - accuracy: 0.8725\n",
      "Epoch 30/100\n",
      "645/645 [==============================] - 12s 19ms/step - loss: 0.4504 - accuracy: 0.8667\n",
      "Epoch 31/100\n",
      "645/645 [==============================] - 13s 19ms/step - loss: 0.4439 - accuracy: 0.8674\n",
      "Epoch 32/100\n",
      "645/645 [==============================] - 13s 19ms/step - loss: 0.4406 - accuracy: 0.8726\n",
      "Epoch 33/100\n",
      "645/645 [==============================] - 13s 20ms/step - loss: 0.4395 - accuracy: 0.8717\n",
      "Epoch 34/100\n",
      "645/645 [==============================] - 12s 19ms/step - loss: 0.4370 - accuracy: 0.8742\n",
      "Epoch 35/100\n",
      "645/645 [==============================] - 13s 19ms/step - loss: 0.4361 - accuracy: 0.8733\n",
      "Epoch 36/100\n",
      "645/645 [==============================] - 13s 19ms/step - loss: 0.4338 - accuracy: 0.8717\n",
      "Epoch 37/100\n",
      "645/645 [==============================] - 13s 20ms/step - loss: 0.4346 - accuracy: 0.8715\n",
      "Epoch 38/100\n",
      "645/645 [==============================] - 12s 19ms/step - loss: 0.4375 - accuracy: 0.8736\n",
      "Epoch 39/100\n",
      "645/645 [==============================] - 13s 20ms/step - loss: 0.4293 - accuracy: 0.8742\n",
      "Epoch 40/100\n",
      "645/645 [==============================] - 13s 20ms/step - loss: 0.4272 - accuracy: 0.8761\n",
      "Epoch 41/100\n",
      "645/645 [==============================] - 13s 20ms/step - loss: 0.4345 - accuracy: 0.8784\n",
      "Epoch 42/100\n",
      "645/645 [==============================] - 13s 20ms/step - loss: 0.4422 - accuracy: 0.8745\n",
      "Epoch 43/100\n",
      "645/645 [==============================] - 12s 19ms/step - loss: 0.4282 - accuracy: 0.8804\n",
      "Epoch 44/100\n",
      "645/645 [==============================] - 13s 20ms/step - loss: 0.4253 - accuracy: 0.8782\n",
      "Epoch 45/100\n",
      "645/645 [==============================] - 13s 20ms/step - loss: 0.4269 - accuracy: 0.8780\n",
      "Epoch 46/100\n",
      "645/645 [==============================] - 14s 22ms/step - loss: 0.4271 - accuracy: 0.8810\n",
      "Epoch 47/100\n",
      "645/645 [==============================] - 13s 20ms/step - loss: 0.4287 - accuracy: 0.8766\n",
      "Epoch 48/100\n",
      "645/645 [==============================] - ETA: 0s - loss: 0.4200 - accuracy: 0.88 - 12s 19ms/step - loss: 0.4201 - accuracy: 0.8825\n",
      "Epoch 49/100\n",
      "645/645 [==============================] - 13s 19ms/step - loss: 0.4163 - accuracy: 0.8847\n",
      "Epoch 50/100\n",
      "645/645 [==============================] - 13s 20ms/step - loss: 0.4300 - accuracy: 0.8762\n",
      "Epoch 51/100\n",
      "645/645 [==============================] - 13s 20ms/step - loss: 0.4272 - accuracy: 0.8781\n",
      "Epoch 52/100\n",
      "645/645 [==============================] - 13s 20ms/step - loss: 0.4236 - accuracy: 0.8794\n",
      "Epoch 53/100\n",
      "645/645 [==============================] - 12s 19ms/step - loss: 0.4299 - accuracy: 0.8804\n",
      "Epoch 54/100\n",
      "645/645 [==============================] - 14s 22ms/step - loss: 0.4175 - accuracy: 0.8833\n",
      "Epoch 55/100\n",
      "645/645 [==============================] - 14s 21ms/step - loss: 0.4212 - accuracy: 0.8823\n",
      "Epoch 56/100\n",
      "645/645 [==============================] - 13s 20ms/step - loss: 0.4183 - accuracy: 0.8822\n",
      "Epoch 57/100\n",
      "645/645 [==============================] - 13s 20ms/step - loss: 0.4172 - accuracy: 0.8835\n",
      "Epoch 58/100\n",
      "645/645 [==============================] - 13s 20ms/step - loss: 0.4138 - accuracy: 0.8860\n",
      "Epoch 59/100\n",
      "645/645 [==============================] - 13s 19ms/step - loss: 0.4202 - accuracy: 0.8835\n",
      "Epoch 60/100\n",
      "645/645 [==============================] - 13s 20ms/step - loss: 0.4191 - accuracy: 0.8792\n",
      "Epoch 61/100\n",
      "645/645 [==============================] - 13s 20ms/step - loss: 0.4142 - accuracy: 0.8869\n",
      "Epoch 62/100\n",
      "645/645 [==============================] - 13s 20ms/step - loss: 0.4134 - accuracy: 0.8849\n",
      "Epoch 63/100\n",
      "645/645 [==============================] - 13s 20ms/step - loss: 0.4134 - accuracy: 0.8861\n",
      "Epoch 64/100\n",
      "645/645 [==============================] - 12s 19ms/step - loss: 0.4250 - accuracy: 0.8813\n",
      "Epoch 65/100\n",
      "645/645 [==============================] - 13s 20ms/step - loss: 0.4222 - accuracy: 0.88320s - loss: 0.4223 - accuracy\n",
      "Epoch 66/100\n",
      "645/645 [==============================] - 13s 20ms/step - loss: 0.4134 - accuracy: 0.8883\n",
      "Epoch 67/100\n",
      "645/645 [==============================] - 13s 20ms/step - loss: 0.4149 - accuracy: 0.88740s - loss: 0.4148 - accuracy: \n",
      "Epoch 68/100\n",
      "645/645 [==============================] - 13s 20ms/step - loss: 0.3936 - accuracy: 0.8939\n",
      "Epoch 69/100\n",
      "645/645 [==============================] - 13s 19ms/step - loss: 0.4137 - accuracy: 0.8862\n",
      "Epoch 70/100\n",
      "645/645 [==============================] - 13s 20ms/step - loss: 0.4139 - accuracy: 0.8870\n",
      "Epoch 71/100\n",
      "645/645 [==============================] - 13s 20ms/step - loss: 0.4065 - accuracy: 0.8862\n",
      "Epoch 72/100\n",
      "645/645 [==============================] - 13s 20ms/step - loss: 0.4163 - accuracy: 0.8848\n",
      "Epoch 73/100\n",
      "645/645 [==============================] - 13s 20ms/step - loss: 0.4120 - accuracy: 0.8902\n",
      "Epoch 74/100\n",
      "645/645 [==============================] - 13s 19ms/step - loss: 0.4176 - accuracy: 0.8873\n",
      "Epoch 75/100\n",
      "645/645 [==============================] - 13s 20ms/step - loss: 0.4019 - accuracy: 0.8931\n",
      "Epoch 76/100\n",
      "645/645 [==============================] - 13s 20ms/step - loss: 0.3973 - accuracy: 0.8922\n",
      "Epoch 77/100\n",
      "645/645 [==============================] - 13s 20ms/step - loss: 0.4164 - accuracy: 0.8843\n",
      "Epoch 78/100\n",
      "645/645 [==============================] - 12s 19ms/step - loss: 0.4145 - accuracy: 0.88460s - loss: 0.4146 - \n",
      "Epoch 79/100\n",
      "645/645 [==============================] - 12s 19ms/step - loss: 0.4102 - accuracy: 0.8914\n",
      "Epoch 80/100\n",
      "645/645 [==============================] - 12s 19ms/step - loss: 0.4122 - accuracy: 0.8891\n",
      "Epoch 81/100\n",
      "645/645 [==============================] - 12s 19ms/step - loss: 0.4076 - accuracy: 0.8911\n",
      "Epoch 82/100\n",
      "645/645 [==============================] - 13s 20ms/step - loss: 0.4134 - accuracy: 0.8905\n",
      "Epoch 83/100\n",
      "645/645 [==============================] - 12s 18ms/step - loss: 0.4103 - accuracy: 0.8871\n",
      "Epoch 84/100\n",
      "645/645 [==============================] - 12s 19ms/step - loss: 0.4060 - accuracy: 0.8907\n",
      "Epoch 85/100\n",
      "645/645 [==============================] - 12s 19ms/step - loss: 0.4096 - accuracy: 0.8888\n",
      "Epoch 86/100\n",
      "645/645 [==============================] - 12s 19ms/step - loss: 0.4002 - accuracy: 0.8907\n",
      "Epoch 87/100\n",
      "645/645 [==============================] - 12s 19ms/step - loss: 0.4057 - accuracy: 0.8935\n",
      "Epoch 88/100\n",
      "645/645 [==============================] - 12s 19ms/step - loss: 0.4083 - accuracy: 0.8900\n",
      "Epoch 89/100\n",
      "645/645 [==============================] - 13s 20ms/step - loss: 0.4067 - accuracy: 0.8933\n",
      "Epoch 90/100\n",
      "645/645 [==============================] - 13s 20ms/step - loss: 0.3989 - accuracy: 0.8967\n",
      "Epoch 91/100\n",
      "645/645 [==============================] - 13s 21ms/step - loss: 0.4017 - accuracy: 0.8924\n",
      "Epoch 92/100\n",
      "645/645 [==============================] - 12s 19ms/step - loss: 0.4104 - accuracy: 0.8890\n",
      "Epoch 93/100\n",
      "645/645 [==============================] - 13s 20ms/step - loss: 0.4084 - accuracy: 0.8914\n",
      "Epoch 94/100\n",
      "645/645 [==============================] - 13s 20ms/step - loss: 0.4105 - accuracy: 0.8886\n",
      "Epoch 95/100\n",
      "645/645 [==============================] - 13s 20ms/step - loss: 0.3996 - accuracy: 0.8937\n",
      "Epoch 96/100\n",
      "645/645 [==============================] - 14s 21ms/step - loss: 0.4088 - accuracy: 0.8904\n",
      "Epoch 97/100\n",
      "645/645 [==============================] - 13s 20ms/step - loss: 0.4039 - accuracy: 0.8923\n",
      "Epoch 98/100\n",
      "645/645 [==============================] - 13s 20ms/step - loss: 0.3979 - accuracy: 0.8944\n",
      "Epoch 99/100\n",
      "645/645 [==============================] - 13s 20ms/step - loss: 0.3980 - accuracy: 0.8964\n",
      "Epoch 100/100\n",
      "645/645 [==============================] - 13s 20ms/step - loss: 0.4015 - accuracy: 0.8952\n"
     ]
    }
   ],
   "source": [
    "from keras.layers import Dropout\n",
    "\n",
    "# Final evaluation of the model\n",
    "# create the model\n",
    "model3 = Sequential()\n",
    "model3.add(layers.Embedding(max_words, 40, input_length=max_len))\n",
    "model3.add(layers.Conv1D(20, 6, activation='relu',kernel_regularizer=regularizers.l1_l2(l1=2e-3, l2=2e-3),bias_regularizer=regularizers.l2(2e-3)))\n",
    "model3.add(Dropout(0.5))\n",
    "model3.add(layers.MaxPooling1D(pool_size=5))\n",
    "model3.add(layers.LSTM(20))\n",
    "model3.add(Dropout(0.5))\n",
    "model3.add(layers.Dense(3, activation='softmax'))\n",
    "model3.compile(loss='categorical_crossentropy', optimizer='rmsprop', metrics=['accuracy'])\n",
    "\n",
    "history = model3.fit(X_train, y_train, epochs=100)"
   ]
  },
  {
   "cell_type": "code",
   "execution_count": 31,
   "metadata": {},
   "outputs": [
    {
     "name": "stdout",
     "output_type": "stream",
     "text": [
      "215/215 - 1s - loss: 0.5328 - accuracy: 0.8355\n"
     ]
    },
    {
     "data": {
      "text/plain": [
       "[0.5328353047370911, 0.8355406522750854]"
      ]
     },
     "execution_count": 31,
     "metadata": {},
     "output_type": "execute_result"
    }
   ],
   "source": [
    "model3.evaluate(X_test,  y_test, verbose=2)"
   ]
  },
  {
   "cell_type": "code",
   "execution_count": 32,
   "metadata": {},
   "outputs": [],
   "source": [
    "yhat_classes = model3.predict_classes(X_test, verbose=0)"
   ]
  },
  {
   "cell_type": "code",
   "execution_count": 54,
   "metadata": {},
   "outputs": [
    {
     "name": "stdout",
     "output_type": "stream",
     "text": [
      "F1 score: 0.835838\n"
     ]
    }
   ],
   "source": [
    "from sklearn.metrics import f1_score\n",
    "from sklearn.metrics import recall_score\n",
    "from sklearn.metrics import precision_score\n",
    "\n",
    "f1 = f1_score(y_test.argmax(axis=1), yhat_classes.astype(np.int),average='weighted')\n",
    "print('F1 score: %f' % f1)"
   ]
  },
  {
   "cell_type": "code",
   "execution_count": 56,
   "metadata": {},
   "outputs": [
    {
     "name": "stdout",
     "output_type": "stream",
     "text": [
      "recall score: 0.835541\n"
     ]
    }
   ],
   "source": [
    "recall = recall_score(y_test.argmax(axis=1), yhat_classes,average='weighted')\n",
    "print('recall score: %f' % recall)"
   ]
  },
  {
   "cell_type": "code",
   "execution_count": 57,
   "metadata": {},
   "outputs": [
    {
     "name": "stdout",
     "output_type": "stream",
     "text": [
      "precision score: 0.836665\n"
     ]
    }
   ],
   "source": [
    "precision = precision_score(y_test.argmax(axis=1), yhat_classes,average='weighted')\n",
    "print('precision score: %f' % precision)"
   ]
  },
  {
   "cell_type": "code",
   "execution_count": null,
   "metadata": {},
   "outputs": [],
   "source": []
  },
  {
   "cell_type": "code",
   "execution_count": null,
   "metadata": {},
   "outputs": [],
   "source": []
  },
  {
   "cell_type": "code",
   "execution_count": null,
   "metadata": {},
   "outputs": [],
   "source": []
  },
  {
   "cell_type": "code",
   "execution_count": null,
   "metadata": {},
   "outputs": [],
   "source": []
  },
  {
   "cell_type": "code",
   "execution_count": null,
   "metadata": {},
   "outputs": [],
   "source": []
  },
  {
   "cell_type": "code",
   "execution_count": null,
   "metadata": {},
   "outputs": [],
   "source": []
  },
  {
   "cell_type": "code",
   "execution_count": null,
   "metadata": {},
   "outputs": [],
   "source": []
  },
  {
   "cell_type": "code",
   "execution_count": null,
   "metadata": {},
   "outputs": [],
   "source": []
  },
  {
   "cell_type": "code",
   "execution_count": null,
   "metadata": {},
   "outputs": [],
   "source": []
  },
  {
   "cell_type": "code",
   "execution_count": null,
   "metadata": {},
   "outputs": [],
   "source": []
  },
  {
   "cell_type": "code",
   "execution_count": null,
   "metadata": {},
   "outputs": [],
   "source": []
  },
  {
   "cell_type": "code",
   "execution_count": null,
   "metadata": {},
   "outputs": [],
   "source": []
  },
  {
   "cell_type": "code",
   "execution_count": null,
   "metadata": {},
   "outputs": [],
   "source": []
  },
  {
   "cell_type": "code",
   "execution_count": null,
   "metadata": {},
   "outputs": [],
   "source": []
  },
  {
   "cell_type": "code",
   "execution_count": null,
   "metadata": {},
   "outputs": [],
   "source": []
  },
  {
   "cell_type": "code",
   "execution_count": null,
   "metadata": {},
   "outputs": [],
   "source": []
  },
  {
   "cell_type": "code",
   "execution_count": null,
   "metadata": {},
   "outputs": [],
   "source": []
  },
  {
   "cell_type": "code",
   "execution_count": null,
   "metadata": {},
   "outputs": [],
   "source": []
  },
  {
   "cell_type": "code",
   "execution_count": null,
   "metadata": {},
   "outputs": [],
   "source": []
  },
  {
   "cell_type": "code",
   "execution_count": null,
   "metadata": {},
   "outputs": [],
   "source": []
  },
  {
   "cell_type": "code",
   "execution_count": null,
   "metadata": {},
   "outputs": [],
   "source": []
  },
  {
   "cell_type": "code",
   "execution_count": null,
   "metadata": {},
   "outputs": [],
   "source": []
  },
  {
   "cell_type": "code",
   "execution_count": null,
   "metadata": {},
   "outputs": [],
   "source": []
  },
  {
   "cell_type": "code",
   "execution_count": null,
   "metadata": {},
   "outputs": [],
   "source": []
  },
  {
   "cell_type": "code",
   "execution_count": 51,
   "metadata": {},
   "outputs": [],
   "source": [
    "model3 = Sequential()\n",
    "model3.add(layers.Embedding(max_words, 40, input_length=max_len))\n",
    "model3.add(layers.Conv1D(20, 6, activation='relu',kernel_regularizer=regularizers.l1_l2(l1=2e-3, l2=2e-3),bias_regularizer=regularizers.l2(2e-3)))\n",
    "model3.add(Dropout(0.5))\n",
    "model3.add(layers.MaxPooling1D(pool_size=5))\n",
    "model3.add(layers.LSTM(20))\n",
    "model3.add(Dropout(0.5))\n",
    "model3.add(layers.Dense(3, activation='softmax'))\n",
    "model3.compile(loss='categorical_crossentropy', optimizer='rmsprop', metrics=['accuracy'])"
   ]
  },
  {
   "cell_type": "code",
   "execution_count": 52,
   "metadata": {},
   "outputs": [
    {
     "name": "stdout",
     "output_type": "stream",
     "text": [
      "Model: \"sequential_16\"\n",
      "_________________________________________________________________\n",
      "Layer (type)                 Output Shape              Param #   \n",
      "=================================================================\n",
      "embedding_16 (Embedding)     (None, 200, 40)           200000    \n",
      "_________________________________________________________________\n",
      "conv1d_15 (Conv1D)           (None, 195, 20)           4820      \n",
      "_________________________________________________________________\n",
      "dropout_16 (Dropout)         (None, 195, 20)           0         \n",
      "_________________________________________________________________\n",
      "max_pooling1d_14 (MaxPooling (None, 39, 20)            0         \n",
      "_________________________________________________________________\n",
      "lstm_14 (LSTM)               (None, 20)                3280      \n",
      "_________________________________________________________________\n",
      "dropout_17 (Dropout)         (None, 20)                0         \n",
      "_________________________________________________________________\n",
      "dense_14 (Dense)             (None, 3)                 63        \n",
      "=================================================================\n",
      "Total params: 208,163\n",
      "Trainable params: 208,163\n",
      "Non-trainable params: 0\n",
      "_________________________________________________________________\n"
     ]
    }
   ],
   "source": [
    "model3.summary()"
   ]
  },
  {
   "cell_type": "code",
   "execution_count": 2,
   "metadata": {},
   "outputs": [
    {
     "data": {
      "text/html": [
       "<div>\n",
       "<style scoped>\n",
       "    .dataframe tbody tr th:only-of-type {\n",
       "        vertical-align: middle;\n",
       "    }\n",
       "\n",
       "    .dataframe tbody tr th {\n",
       "        vertical-align: top;\n",
       "    }\n",
       "\n",
       "    .dataframe thead th {\n",
       "        text-align: right;\n",
       "    }\n",
       "</style>\n",
       "<table border=\"1\" class=\"dataframe\">\n",
       "  <thead>\n",
       "    <tr style=\"text-align: right;\">\n",
       "      <th></th>\n",
       "      <th>Classifier</th>\n",
       "      <th>F1 Score</th>\n",
       "      <th>Recall_score</th>\n",
       "      <th>Precision_</th>\n",
       "    </tr>\n",
       "  </thead>\n",
       "  <tbody>\n",
       "    <tr>\n",
       "      <th>0</th>\n",
       "      <td>CNN-LSTM</td>\n",
       "      <td>0.84</td>\n",
       "      <td>0.84</td>\n",
       "      <td>0.84</td>\n",
       "    </tr>\n",
       "  </tbody>\n",
       "</table>\n",
       "</div>"
      ],
      "text/plain": [
       "  Classifier  F1 Score  Recall_score  Precision_\n",
       "0   CNN-LSTM      0.84          0.84        0.84"
      ]
     },
     "execution_count": 2,
     "metadata": {},
     "output_type": "execute_result"
    }
   ],
   "source": [
    "import pandas as pd\n",
    "score = [('CNN-LSTM',0.84,.84,0.84)]\n",
    "label=['Classifier','F1 Score', 'Recall_score','Precision_']\n",
    "\n",
    "score_df = pd.DataFrame(data=score, columns=label)#.set_index('Classifier')\n",
    "score_df"
   ]
  },
  {
   "cell_type": "code",
   "execution_count": null,
   "metadata": {},
   "outputs": [],
   "source": []
  },
  {
   "cell_type": "code",
   "execution_count": null,
   "metadata": {},
   "outputs": [],
   "source": []
  }
 ],
 "metadata": {
  "kernelspec": {
   "display_name": "Python 3",
   "language": "python",
   "name": "python3"
  },
  "language_info": {
   "codemirror_mode": {
    "name": "ipython",
    "version": 3
   },
   "file_extension": ".py",
   "mimetype": "text/x-python",
   "name": "python",
   "nbconvert_exporter": "python",
   "pygments_lexer": "ipython3",
   "version": "3.8.5"
  }
 },
 "nbformat": 4,
 "nbformat_minor": 4
}
